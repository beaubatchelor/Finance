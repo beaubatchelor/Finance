{
 "cells": [
  {
   "cell_type": "code",
   "execution_count": 1,
   "metadata": {},
   "outputs": [],
   "source": [
    "import datetime as dt\n",
    "import os, csv\n",
    "import pandas as pd\n",
    "import requests\n",
    "from config import alpha_api"
   ]
  },
  {
   "cell_type": "code",
   "execution_count": 2,
   "metadata": {},
   "outputs": [
    {
     "name": "stdout",
     "output_type": "stream",
     "text": [
      "Ticker?gme\n"
     ]
    }
   ],
   "source": [
    "ticker = input('Ticker?')\n",
    "monthly_ticker_json = requests.get(f'https://www.alphavantage.co/query?function=TIME_SERIES_MONTHLY_ADJUSTED&symbol={ticker}&apikey={alpha_api}').json()"
   ]
  },
  {
   "cell_type": "code",
   "execution_count": 3,
   "metadata": {},
   "outputs": [],
   "source": [
    "monthly_list = []\n",
    "for key, value in monthly_ticker_json['Monthly Adjusted Time Series'].items():\n",
    "    day_dict = {\n",
    "        'open': float(value['1. open']), 'high': float(value['2. high']), 'low': float(value['3. low']),\n",
    "        'close': float(value['4. close']), 'adjusted_close': float(value['5. adjusted close']), 'volume': float(value['6. volume']),\n",
    "        'dividend_amount': float(value['7. dividend amount']), 'day' : dt.date.fromisoformat(key)\n",
    "    }\n",
    "    monthly_list.append(day_dict)    "
   ]
  },
  {
   "cell_type": "code",
   "execution_count": 4,
   "metadata": {},
   "outputs": [
    {
     "data": {
      "text/html": [
       "<div>\n",
       "<style scoped>\n",
       "    .dataframe tbody tr th:only-of-type {\n",
       "        vertical-align: middle;\n",
       "    }\n",
       "\n",
       "    .dataframe tbody tr th {\n",
       "        vertical-align: top;\n",
       "    }\n",
       "\n",
       "    .dataframe thead th {\n",
       "        text-align: right;\n",
       "    }\n",
       "</style>\n",
       "<table border=\"1\" class=\"dataframe\">\n",
       "  <thead>\n",
       "    <tr style=\"text-align: right;\">\n",
       "      <th></th>\n",
       "      <th>adjusted_close</th>\n",
       "      <th>close</th>\n",
       "      <th>day</th>\n",
       "      <th>dividend_amount</th>\n",
       "      <th>high</th>\n",
       "      <th>low</th>\n",
       "      <th>open</th>\n",
       "      <th>volume</th>\n",
       "    </tr>\n",
       "  </thead>\n",
       "  <tbody>\n",
       "    <tr>\n",
       "      <th>0</th>\n",
       "      <td>10.2900</td>\n",
       "      <td>10.29</td>\n",
       "      <td>2019-03-27</td>\n",
       "      <td>0.38</td>\n",
       "      <td>12.100</td>\n",
       "      <td>10.07</td>\n",
       "      <td>11.88</td>\n",
       "      <td>61166163.0</td>\n",
       "    </tr>\n",
       "    <tr>\n",
       "      <th>1</th>\n",
       "      <td>11.3076</td>\n",
       "      <td>11.70</td>\n",
       "      <td>2019-02-28</td>\n",
       "      <td>0.00</td>\n",
       "      <td>11.930</td>\n",
       "      <td>11.00</td>\n",
       "      <td>11.31</td>\n",
       "      <td>54707381.0</td>\n",
       "    </tr>\n",
       "    <tr>\n",
       "      <th>2</th>\n",
       "      <td>10.9597</td>\n",
       "      <td>11.34</td>\n",
       "      <td>2019-01-31</td>\n",
       "      <td>0.00</td>\n",
       "      <td>16.903</td>\n",
       "      <td>11.10</td>\n",
       "      <td>12.45</td>\n",
       "      <td>107232026.0</td>\n",
       "    </tr>\n",
       "    <tr>\n",
       "      <th>3</th>\n",
       "      <td>12.1967</td>\n",
       "      <td>12.62</td>\n",
       "      <td>2018-12-31</td>\n",
       "      <td>0.38</td>\n",
       "      <td>14.110</td>\n",
       "      <td>11.56</td>\n",
       "      <td>13.82</td>\n",
       "      <td>50160871.0</td>\n",
       "    </tr>\n",
       "    <tr>\n",
       "      <th>4</th>\n",
       "      <td>12.8332</td>\n",
       "      <td>13.66</td>\n",
       "      <td>2018-11-30</td>\n",
       "      <td>0.00</td>\n",
       "      <td>15.755</td>\n",
       "      <td>12.14</td>\n",
       "      <td>14.61</td>\n",
       "      <td>84573696.0</td>\n",
       "    </tr>\n",
       "  </tbody>\n",
       "</table>\n",
       "</div>"
      ],
      "text/plain": [
       "   adjusted_close  close         day  dividend_amount    high    low   open  \\\n",
       "0         10.2900  10.29  2019-03-27             0.38  12.100  10.07  11.88   \n",
       "1         11.3076  11.70  2019-02-28             0.00  11.930  11.00  11.31   \n",
       "2         10.9597  11.34  2019-01-31             0.00  16.903  11.10  12.45   \n",
       "3         12.1967  12.62  2018-12-31             0.38  14.110  11.56  13.82   \n",
       "4         12.8332  13.66  2018-11-30             0.00  15.755  12.14  14.61   \n",
       "\n",
       "        volume  \n",
       "0   61166163.0  \n",
       "1   54707381.0  \n",
       "2  107232026.0  \n",
       "3   50160871.0  \n",
       "4   84573696.0  "
      ]
     },
     "execution_count": 4,
     "metadata": {},
     "output_type": "execute_result"
    }
   ],
   "source": [
    "monthly_ticker_df = pd.DataFrame(monthly_list)\n",
    "monthly_ticker_df.head()"
   ]
  },
  {
   "cell_type": "code",
   "execution_count": 6,
   "metadata": {
    "scrolled": true
   },
   "outputs": [
    {
     "data": {
      "text/plain": [
       "<matplotlib.axes._subplots.AxesSubplot at 0x25402c9a748>"
      ]
     },
     "execution_count": 6,
     "metadata": {},
     "output_type": "execute_result"
    },
    {
     "data": {
      "image/png": "[encoded data removed]",
      "text/plain": [
       "<Figure size 432x288 with 1 Axes>"
      ]
     },
     "metadata": {
      "needs_background": "light"
     },
     "output_type": "display_data"
    }
   ],
   "source": [
    "monthly_ticker_df.plot(x='day', y='adjusted_close')"
   ]
  },
  {
   "cell_type": "code",
   "execution_count": 37,
   "metadata": {},
   "outputs": [],
   "source": [
    "test = requests.get('https://api.intrinio.com/data_point').json()"
   ]
  },
  {
   "cell_type": "code",
   "execution_count": 38,
   "metadata": {},
   "outputs": [
    {
     "name": "stdout",
     "output_type": "stream",
     "text": [
      "{'errors': [{'human': 'Unauthorized to view this.', 'message': 'Did not provide valid http authentication.'}]}\n"
     ]
    }
   ],
   "source": [
    "print(test)"
   ]
  },
  {
   "cell_type": "code",
   "execution_count": null,
   "metadata": {},
   "outputs": [],
   "source": []
  }
 ],
 "metadata": {
  "kernelspec": {
   "display_name": "Python 3",
   "language": "python",
   "name": "python3"
  },
  "language_info": {
   "codemirror_mode": {
    "name": "ipython",
    "version": 3
   },
   "file_extension": ".py",
   "mimetype": "text/x-python",
   "name": "python",
   "nbconvert_exporter": "python",
   "pygments_lexer": "ipython3",
   "version": "3.7.1"
  }
 },
 "nbformat": 4,
 "nbformat_minor": 2
}
