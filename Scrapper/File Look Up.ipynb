{
 "cells": [
  {
   "cell_type": "code",
   "execution_count": 6,
   "metadata": {},
   "outputs": [],
   "source": [
    "from splinter import Browser\n",
    "from bs4 import BeautifulSoup\n",
    "import pandas as pd\n",
    "import time\n",
    "from financial_reports_collector import filings_collector\n",
    "import datetime as dt\n",
    "import requests\n",
    "import pprint as pp\n",
    "import xml.etree.ElementTree as ET"
   ]
  },
  {
   "cell_type": "code",
   "execution_count": 2,
   "metadata": {},
   "outputs": [
    {
     "name": "stdout",
     "output_type": "stream",
     "text": [
      "ticker?gme\n",
      "What file?(10-K,10-Q)10-k\n"
     ]
    }
   ],
   "source": [
    "# Access page\n",
    "ticker = input('ticker?').lower()\n",
    "file_type = input('What file?(10-K,10-Q)').upper()\n",
    "\n",
    "# Obtain HTML for search page\n",
    "establishing_url = f'https://www.sec.gov/cgi-bin/browse-edgar?action=getcompany&CIK={ticker}&type={file_type}&dateb=&owner=exclude&start=0&count=100'\n",
    "edgar_resp = requests.get(establishing_url)\n",
    "edgar_str = edgar_resp.text"
   ]
  },
  {
   "cell_type": "code",
   "execution_count": 3,
   "metadata": {},
   "outputs": [],
   "source": [
    "# Find the document link and create df\n",
    "reports_list = []\n",
    "doc_link = ''\n",
    "soup = BeautifulSoup(edgar_str, 'html.parser')\n",
    "table_tag = soup.find('table', class_='tableFile2')\n",
    "rows = table_tag.find_all('tr')\n",
    "for row in rows:\n",
    "    cells = row.find_all('td')\n",
    "    if len(cells) > 3:\n",
    "        filing = cells[0].text\n",
    "        doc_link = 'https://www.sec.gov' + cells[1].a['href']\n",
    "        filing_date = dt.date.fromisoformat(cells[3].text)\n",
    "        entry = {'filings' : filing, 'doc_link' : doc_link, 'date' : filing_date}\n",
    "        reports_list.append(entry)"
   ]
  },
  {
   "cell_type": "code",
   "execution_count": 4,
   "metadata": {},
   "outputs": [],
   "source": [
    "#  Find the XBRL link\n",
    "for report in reports_list:\n",
    "    doc_link = report['doc_link']\n",
    "    doc_resp = requests.get(doc_link)\n",
    "    doc_str = doc_resp.text\n",
    "    soup = BeautifulSoup(doc_str, 'html.parser')\n",
    "    try:\n",
    "        table_tag = soup.find('table', class_='tableFile', summary='Data Files')\n",
    "        rows = table_tag.find_all('tr')\n",
    "        time.sleep(.01)\n",
    "        for row in rows:\n",
    "            cells = row.find_all('td')\n",
    "            if len(cells) > 3:\n",
    "                if 'INS' in cells[3].text:\n",
    "                    xbrl_link = 'https://www.sec.gov' + cells[2].a['href']\n",
    "                    report.update({'xbrl_link' : xbrl_link})\n",
    "    except:\n",
    "        report.update({'xbrl_link' : 'N/A'})"
   ]
  },
  {
   "cell_type": "code",
   "execution_count": 8,
   "metadata": {},
   "outputs": [
    {
     "data": {
      "text/html": [
       "<div>\n",
       "<style scoped>\n",
       "    .dataframe tbody tr th:only-of-type {\n",
       "        vertical-align: middle;\n",
       "    }\n",
       "\n",
       "    .dataframe tbody tr th {\n",
       "        vertical-align: top;\n",
       "    }\n",
       "\n",
       "    .dataframe thead th {\n",
       "        text-align: right;\n",
       "    }\n",
       "</style>\n",
       "<table border=\"1\" class=\"dataframe\">\n",
       "  <thead>\n",
       "    <tr style=\"text-align: right;\">\n",
       "      <th></th>\n",
       "      <th>date</th>\n",
       "      <th>doc_link</th>\n",
       "      <th>filings</th>\n",
       "      <th>xbrl_link</th>\n",
       "    </tr>\n",
       "  </thead>\n",
       "  <tbody>\n",
       "    <tr>\n",
       "      <th>0</th>\n",
       "      <td>2018-04-02</td>\n",
       "      <td>https://www.sec.gov/Archives/edgar/data/132638...</td>\n",
       "      <td>10-K</td>\n",
       "      <td>https://www.sec.gov/Archives/edgar/data/132638...</td>\n",
       "    </tr>\n",
       "    <tr>\n",
       "      <th>1</th>\n",
       "      <td>2017-03-27</td>\n",
       "      <td>https://www.sec.gov/Archives/edgar/data/132638...</td>\n",
       "      <td>10-K</td>\n",
       "      <td>https://www.sec.gov/Archives/edgar/data/132638...</td>\n",
       "    </tr>\n",
       "    <tr>\n",
       "      <th>2</th>\n",
       "      <td>2016-03-29</td>\n",
       "      <td>https://www.sec.gov/Archives/edgar/data/132638...</td>\n",
       "      <td>10-K/A</td>\n",
       "      <td>https://www.sec.gov/Archives/edgar/data/132638...</td>\n",
       "    </tr>\n",
       "    <tr>\n",
       "      <th>3</th>\n",
       "      <td>2016-03-28</td>\n",
       "      <td>https://www.sec.gov/Archives/edgar/data/132638...</td>\n",
       "      <td>10-K</td>\n",
       "      <td>https://www.sec.gov/Archives/edgar/data/132638...</td>\n",
       "    </tr>\n",
       "    <tr>\n",
       "      <th>4</th>\n",
       "      <td>2015-03-30</td>\n",
       "      <td>https://www.sec.gov/Archives/edgar/data/132638...</td>\n",
       "      <td>10-K</td>\n",
       "      <td>https://www.sec.gov/Archives/edgar/data/132638...</td>\n",
       "    </tr>\n",
       "  </tbody>\n",
       "</table>\n",
       "</div>"
      ],
      "text/plain": [
       "         date                                           doc_link filings  \\\n",
       "0  2018-04-02  https://www.sec.gov/Archives/edgar/data/132638...    10-K   \n",
       "1  2017-03-27  https://www.sec.gov/Archives/edgar/data/132638...    10-K   \n",
       "2  2016-03-29  https://www.sec.gov/Archives/edgar/data/132638...  10-K/A   \n",
       "3  2016-03-28  https://www.sec.gov/Archives/edgar/data/132638...    10-K   \n",
       "4  2015-03-30  https://www.sec.gov/Archives/edgar/data/132638...    10-K   \n",
       "\n",
       "                                           xbrl_link  \n",
       "0  https://www.sec.gov/Archives/edgar/data/132638...  \n",
       "1  https://www.sec.gov/Archives/edgar/data/132638...  \n",
       "2  https://www.sec.gov/Archives/edgar/data/132638...  \n",
       "3  https://www.sec.gov/Archives/edgar/data/132638...  \n",
       "4  https://www.sec.gov/Archives/edgar/data/132638...  "
      ]
     },
     "execution_count": 8,
     "metadata": {},
     "output_type": "execute_result"
    }
   ],
   "source": [
    "filings_df = pd.DataFrame(reports_list)\n",
    "filings_df.head()\n",
    "# print(reports_list[0])"
   ]
  },
  {
   "cell_type": "code",
   "execution_count": 37,
   "metadata": {},
   "outputs": [],
   "source": [
    "tag_name_list = []\n",
    "\n",
    "lxml_ten_q = filings_df['xbrl_link'][0]\n",
    "\n",
    "xbrl_resp = requests.get(lxml_ten_q)\n",
    "xbrl_str = xbrl_resp.text\n",
    "\n",
    "root = ET.fromstring(xbrl_str)\n",
    "\n",
    "\n",
    "uri_dict = {'xbrl' :'http://www.xbrl.org/2003/instance',\n",
    "           'sec' : 'http://xbrl.sec.gov/dei/2014-01-31', \n",
    "           'company' : 'http://www.gamestop.com/20180203',\n",
    "           'gaap' : 'http://fasb.org/us-gaap/2017-01-31'}"
   ]
  },
  {
   "cell_type": "code",
   "execution_count": 86,
   "metadata": {},
   "outputs": [],
   "source": [
    "gaap_keys = []\n",
    "for child in root:\n",
    "    tag_list = list(child.tag)\n",
    "    uri_pos = tag_list.index('}')\n",
    "    uri = ''.join(tag_list[1:uri_pos])\n",
    "    name = ''.join(tag_list[int(uri_pos+1):len(tag_list)])\n",
    "    if uri == uri_dict['gaap']:\n",
    "        context_ref = child.attrib['contextRef']\n",
    "        new_key = {'key' : name, 'context_ref' : context_ref,\n",
    "                  'data' : child.text}\n",
    "        gaap_keys.append(new_key)\n",
    "        "
   ]
  },
  {
   "cell_type": "code",
   "execution_count": 87,
   "metadata": {},
   "outputs": [
    {
     "data": {
      "text/html": [
       "<div>\n",
       "<style scoped>\n",
       "    .dataframe tbody tr th:only-of-type {\n",
       "        vertical-align: middle;\n",
       "    }\n",
       "\n",
       "    .dataframe tbody tr th {\n",
       "        vertical-align: top;\n",
       "    }\n",
       "\n",
       "    .dataframe thead th {\n",
       "        text-align: right;\n",
       "    }\n",
       "</style>\n",
       "<table border=\"1\" class=\"dataframe\">\n",
       "  <thead>\n",
       "    <tr style=\"text-align: right;\">\n",
       "      <th></th>\n",
       "      <th>context_ref</th>\n",
       "      <th>data</th>\n",
       "      <th>key</th>\n",
       "    </tr>\n",
       "  </thead>\n",
       "  <tbody>\n",
       "    <tr>\n",
       "      <th>0</th>\n",
       "      <td>FI2016Q4</td>\n",
       "      <td>616600000</td>\n",
       "      <td>AccountsPayableCurrent</td>\n",
       "    </tr>\n",
       "    <tr>\n",
       "      <th>1</th>\n",
       "      <td>FI2017Q4</td>\n",
       "      <td>902000000</td>\n",
       "      <td>AccountsPayableCurrent</td>\n",
       "    </tr>\n",
       "    <tr>\n",
       "      <th>2</th>\n",
       "      <td>FI2016Q4</td>\n",
       "      <td>52000000</td>\n",
       "      <td>AccrualForTaxesOtherThanIncomeTaxesCurrent</td>\n",
       "    </tr>\n",
       "    <tr>\n",
       "      <th>3</th>\n",
       "      <td>FI2017Q4</td>\n",
       "      <td>63400000</td>\n",
       "      <td>AccrualForTaxesOtherThanIncomeTaxesCurrent</td>\n",
       "    </tr>\n",
       "    <tr>\n",
       "      <th>4</th>\n",
       "      <td>FI2016Q4</td>\n",
       "      <td>54000000</td>\n",
       "      <td>AccruedIncomeTaxesCurrent</td>\n",
       "    </tr>\n",
       "  </tbody>\n",
       "</table>\n",
       "</div>"
      ],
      "text/plain": [
       "  context_ref       data                                         key\n",
       "0    FI2016Q4  616600000                      AccountsPayableCurrent\n",
       "1    FI2017Q4  902000000                      AccountsPayableCurrent\n",
       "2    FI2016Q4   52000000  AccrualForTaxesOtherThanIncomeTaxesCurrent\n",
       "3    FI2017Q4   63400000  AccrualForTaxesOtherThanIncomeTaxesCurrent\n",
       "4    FI2016Q4   54000000                   AccruedIncomeTaxesCurrent"
      ]
     },
     "execution_count": 87,
     "metadata": {},
     "output_type": "execute_result"
    }
   ],
   "source": [
    "gaap_names_df = pd.DataFrame(gaap_keys)\n",
    "gaap_names_df.head()"
   ]
  },
  {
   "cell_type": "code",
   "execution_count": 51,
   "metadata": {},
   "outputs": [
    {
     "name": "stdout",
     "output_type": "stream",
     "text": [
      "FI2014Q4\n",
      "107700000\n",
      "[('contextRef', 'FI2014Q4_us-gaap_StatementEquityComponentsAxis_us-gaap_CommonStockMember'), ('decimals', '-5'), ('id', 'Fact-B301AAA244419E1E7BAA72850E5ADEFE'), ('unitRef', 'shares')]\n",
      "FI2015Q4\n",
      "103300000\n",
      "[('contextRef', 'FI2015Q4_us-gaap_StatementEquityComponentsAxis_us-gaap_CommonStockMember'), ('decimals', '-5'), ('id', 'Fact-730BB4FE3CDCC93EBF5F72850E6A3A08'), ('unitRef', 'shares')]\n",
      "FI2016Q4\n",
      "101000000\n",
      "[('contextRef', 'FI2016Q4_us-gaap_StatementEquityComponentsAxis_us-gaap_CommonStockMember'), ('decimals', '-5'), ('id', 'Fact-F578B586643DCB752B8772850EC86CAF'), ('unitRef', 'shares')]\n",
      "FI2017Q4\n",
      "101300000\n",
      "[('contextRef', 'FI2017Q4_us-gaap_StatementEquityComponentsAxis_us-gaap_CommonStockMember'), ('decimals', '-5'), ('id', 'Fact-B061F3B4B66AE77D52BB72850EB8C6FE'), ('unitRef', 'shares')]\n"
     ]
    }
   ],
   "source": [
    "for entry in root.findall('gaap:SharesOutstanding', uri_dict):\n",
    "    context_ref_list = list(entry.attrib['contextRef'])\n",
    "    country_pos = len(context_ref_list)\n",
    "    country = ''.join(country_list[country_pos-2:country_pos])\n",
    "    report = ''.join(context_ref_list[0:8])\n",
    "    print(report)\n",
    "    print(entry.text)\n",
    "#     print(entry.items())\n",
    "#     if country == 'US':\n",
    "#         print(report)\n",
    "#         print(entry.text)\n",
    "#         print(entry.tag)"
   ]
  },
  {
   "cell_type": "code",
   "execution_count": 34,
   "metadata": {},
   "outputs": [
    {
     "name": "stdout",
     "output_type": "stream",
     "text": [
      "FI2015Q4\n",
      "2698500000\n",
      "FI2016Q4\n",
      "2583300000\n",
      "FI2017Q4\n",
      "920500000\n"
     ]
    }
   ],
   "source": [
    "for child in root:\n",
    "    if child.tag == '{http://fasb.org/us-gaap/2017-01-31}Assets':\n",
    "        country_list = list(child.attrib['contextRef'])\n",
    "        country_pos = len(country_list)\n",
    "        country = ''.join(country_list[country_pos-2:country_pos])\n",
    "        report = ''.join(country_list[0:8])\n",
    "        if country == 'US':\n",
    "            print(report)\n",
    "            print(child.text)\n",
    "        \n",
    "    "
   ]
  },
  {
   "cell_type": "code",
   "execution_count": 23,
   "metadata": {},
   "outputs": [
    {
     "name": "stdout",
     "output_type": "stream",
     "text": [
      "[   <Element '{http://fasb.org/us-gaap/2017-01-31}Assets' at 0x00000253AAFA3778>,\n",
      "    <Element '{http://fasb.org/us-gaap/2017-01-31}Assets' at 0x00000253AAFA37C8>,\n",
      "    <Element '{http://fasb.org/us-gaap/2017-01-31}Assets' at 0x00000253AAFA3818>,\n",
      "    <Element '{http://fasb.org/us-gaap/2017-01-31}Assets' at 0x00000253AAFA3868>,\n",
      "    <Element '{http://fasb.org/us-gaap/2017-01-31}Assets' at 0x00000253AAFA38B8>,\n",
      "    <Element '{http://fasb.org/us-gaap/2017-01-31}Assets' at 0x00000253AAFA3908>,\n",
      "    <Element '{http://fasb.org/us-gaap/2017-01-31}Assets' at 0x00000253AAFA3958>,\n",
      "    <Element '{http://fasb.org/us-gaap/2017-01-31}Assets' at 0x00000253AAFA39A8>,\n",
      "    <Element '{http://fasb.org/us-gaap/2017-01-31}Assets' at 0x00000253AAFA39F8>,\n",
      "    <Element '{http://fasb.org/us-gaap/2017-01-31}Assets' at 0x00000253AAFA3A48>,\n",
      "    <Element '{http://fasb.org/us-gaap/2017-01-31}Assets' at 0x00000253AAFA3A98>,\n",
      "    <Element '{http://fasb.org/us-gaap/2017-01-31}Assets' at 0x00000253AAFA3AE8>,\n",
      "    <Element '{http://fasb.org/us-gaap/2017-01-31}Assets' at 0x00000253AAFA3B38>,\n",
      "    <Element '{http://fasb.org/us-gaap/2017-01-31}Assets' at 0x00000253AAFA3B88>,\n",
      "    <Element '{http://fasb.org/us-gaap/2017-01-31}Assets' at 0x00000253AAFA3BD8>,\n",
      "    <Element '{http://fasb.org/us-gaap/2017-01-31}Assets' at 0x00000253AAFA3C28>,\n",
      "    <Element '{http://fasb.org/us-gaap/2017-01-31}Assets' at 0x00000253AAFA3C78>,\n",
      "    <Element '{http://fasb.org/us-gaap/2017-01-31}Assets' at 0x00000253AAFA3CC8>]\n"
     ]
    }
   ],
   "source": [
    "pprinted = pp.PrettyPrinter(indent=4)\n",
    "pprinted.pprint(root.findall('{http://fasb.org/us-gaap/2017-01-31}Assets'))"
   ]
  },
  {
   "cell_type": "code",
   "execution_count": null,
   "metadata": {},
   "outputs": [],
   "source": [
    "'dei:currentfiscalyearenddate'\n",
    "'dei:entitycommonstocksharesoutstanding'\n",
    "'dei:entityfilercategory'\n",
    "'dei:entityregistrantname'\n",
    "'dei:tradingsymbol'"
   ]
  }
 ],
 "metadata": {
  "kernelspec": {
   "display_name": "Python 3",
   "language": "python",
   "name": "python3"
  },
  "language_info": {
   "codemirror_mode": {
    "name": "ipython",
    "version": 3
   },
   "file_extension": ".py",
   "mimetype": "text/x-python",
   "name": "python",
   "nbconvert_exporter": "python",
   "pygments_lexer": "ipython3",
   "version": "3.7.1"
  }
 },
 "nbformat": 4,
 "nbformat_minor": 2
}
