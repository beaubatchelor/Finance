{
 "cells": [
  {
   "cell_type": "code",
   "execution_count": 8,
   "metadata": {},
   "outputs": [],
   "source": [
    "import os, csv\n",
    "from splinter import Browser\n",
    "from bs4 import BeautifulSoup\n",
    "import pandas as pd\n",
    "import time\n",
    "import datetime as dt"
   ]
  },
  {
   "cell_type": "code",
   "execution_count": 9,
   "metadata": {},
   "outputs": [],
   "source": [
    "def filings_df(address):\n",
    "#     request\n",
    "    page_dfs = pd.read_html(address)\n",
    "    filing_df = pd.DataFrame(page_dfs[2])\n",
    "    \n",
    "#     headers collector\n",
    "    headers = []\n",
    "    for i in range(0,5):\n",
    "        headers.append(str(filing_df[i][0]))\n",
    "        \n",
    "#     headers cleaner\n",
    "    filing_df = filing_df.drop(0, axis=0)\n",
    "    filing_df = filing_df.rename(index=str, columns={0:headers[0], 1:headers[1],\n",
    "                                                     2:headers[2], 3:headers[3],\n",
    "                                                     4:headers[4]})\n",
    "    filing_df = filing_df.reset_index(drop=True)\n",
    "    \n",
    "#     description cleaner\n",
    "    for i in range(0, len(filing_df)):\n",
    "        filing_desc = filing_df['Description'][i].split()\n",
    "        filing_pos = len(filing_desc)-6\n",
    "        filing_number = filing_desc[filing_pos]\n",
    "        filing_df['Description'][i] = filing_number\n",
    "        filing_df['Filing Date'][i] = dt.date.fromisoformat(filing_df['Filing Date'][i])     \n",
    "        \n",
    "    \n",
    "    return filing_df"
   ]
  },
  {
   "cell_type": "code",
   "execution_count": 12,
   "metadata": {},
   "outputs": [],
   "source": [
    "def filings_collector(cik):\n",
    "    first = 1\n",
    "    establishing_url = f'https://www.sec.gov/cgi-bin/browse-edgar?action=getcompany&CIK={cik}&type=&dateb=&owner=exclude&start=0&count=100'\n",
    "    establishing_df = filings_df(establishing_url)\n",
    "    for i in range(1,10):\n",
    "        try:\n",
    "            url = f'https://www.sec.gov/cgi-bin/browse-edgar?action=getcompany&CIK={ticker}&type=&dateb=&owner=exclude&start={i}00&count=100'\n",
    "            page_df = filings_df(url)\n",
    "            establishing_df = establishing_df.append(page_df, ignore_index=True)\n",
    "            time.sleep(.1)\n",
    "        except:\n",
    "            break\n",
    "    return establishing_df"
   ]
  },
  {
   "cell_type": "code",
   "execution_count": 15,
   "metadata": {},
   "outputs": [
    {
     "name": "stdout",
     "output_type": "stream",
     "text": [
      "what?gme\n"
     ]
    },
    {
     "data": {
      "text/html": [
       "<div>\n",
       "<style scoped>\n",
       "    .dataframe tbody tr th:only-of-type {\n",
       "        vertical-align: middle;\n",
       "    }\n",
       "\n",
       "    .dataframe tbody tr th {\n",
       "        vertical-align: top;\n",
       "    }\n",
       "\n",
       "    .dataframe thead th {\n",
       "        text-align: right;\n",
       "    }\n",
       "</style>\n",
       "<table border=\"1\" class=\"dataframe\">\n",
       "  <thead>\n",
       "    <tr style=\"text-align: right;\">\n",
       "      <th></th>\n",
       "      <th>Filings</th>\n",
       "      <th>Format</th>\n",
       "      <th>Description</th>\n",
       "      <th>Filing Date</th>\n",
       "      <th>File/Film Number</th>\n",
       "    </tr>\n",
       "  </thead>\n",
       "  <tbody>\n",
       "    <tr>\n",
       "      <th>410</th>\n",
       "      <td>UPLOAD</td>\n",
       "      <td>Documents</td>\n",
       "      <td>[Cover]SEC-generated</td>\n",
       "      <td>2005-06-22</td>\n",
       "      <td>NaN</td>\n",
       "    </tr>\n",
       "    <tr>\n",
       "      <th>411</th>\n",
       "      <td>425</td>\n",
       "      <td>Documents</td>\n",
       "      <td>0001104659-05-028235</td>\n",
       "      <td>2005-06-15</td>\n",
       "      <td>333-12516105895917</td>\n",
       "    </tr>\n",
       "    <tr>\n",
       "      <th>412</th>\n",
       "      <td>425</td>\n",
       "      <td>Documents</td>\n",
       "      <td>0001104659-05-027528</td>\n",
       "      <td>2005-06-09</td>\n",
       "      <td>333-12516105887384</td>\n",
       "    </tr>\n",
       "    <tr>\n",
       "      <th>413</th>\n",
       "      <td>425</td>\n",
       "      <td>Documents</td>\n",
       "      <td>0000950138-05-000521</td>\n",
       "      <td>2005-06-09</td>\n",
       "      <td>333-12516105886526</td>\n",
       "    </tr>\n",
       "    <tr>\n",
       "      <th>414</th>\n",
       "      <td>S-4</td>\n",
       "      <td>Documents</td>\n",
       "      <td>0000950123-05-006637</td>\n",
       "      <td>2005-05-23</td>\n",
       "      <td>333-12516105852030</td>\n",
       "    </tr>\n",
       "  </tbody>\n",
       "</table>\n",
       "</div>"
      ],
      "text/plain": [
       "    Filings     Format           Description Filing Date    File/Film Number\n",
       "410  UPLOAD  Documents  [Cover]SEC-generated  2005-06-22                 NaN\n",
       "411     425  Documents  0001104659-05-028235  2005-06-15  333-12516105895917\n",
       "412     425  Documents  0001104659-05-027528  2005-06-09  333-12516105887384\n",
       "413     425  Documents  0000950138-05-000521  2005-06-09  333-12516105886526\n",
       "414     S-4  Documents  0000950123-05-006637  2005-05-23  333-12516105852030"
      ]
     },
     "execution_count": 15,
     "metadata": {},
     "output_type": "execute_result"
    }
   ],
   "source": [
    "ticker = input('what?')\n",
    "\n",
    "test = filings_collector(ticker)\n",
    "\n",
    "test.tail()"
   ]
  },
  {
   "cell_type": "code",
   "execution_count": 14,
   "metadata": {},
   "outputs": [
    {
     "name": "stderr",
     "output_type": "stream",
     "text": [
      "[TerminalIPythonApp] WARNING | Subcommand `ipython nbconvert` is deprecated and will be removed in future versions.\n",
      "[TerminalIPythonApp] WARNING | You likely want to use `jupyter nbconvert` in the future\n",
      "[NbConvertApp] Converting notebook financial_reports_collector.ipynb to python\n",
      "[NbConvertApp] Writing 2012 bytes to financial_reports_collector.py\n"
     ]
    }
   ],
   "source": [
    "!ipython nbconvert --to=python financial_reports_collector.ipynb"
   ]
  },
  {
   "cell_type": "code",
   "execution_count": null,
   "metadata": {},
   "outputs": [],
   "source": []
  }
 ],
 "metadata": {
  "kernelspec": {
   "display_name": "Python 3",
   "language": "python",
   "name": "python3"
  },
  "language_info": {
   "codemirror_mode": {
    "name": "ipython",
    "version": 3
   },
   "file_extension": ".py",
   "mimetype": "text/x-python",
   "name": "python",
   "nbconvert_exporter": "python",
   "pygments_lexer": "ipython3",
   "version": "3.7.1"
  }
 },
 "nbformat": 4,
 "nbformat_minor": 2
}
