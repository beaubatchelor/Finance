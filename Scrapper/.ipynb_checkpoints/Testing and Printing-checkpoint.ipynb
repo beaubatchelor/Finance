{
 "cells": [
  {
   "cell_type": "code",
   "execution_count": 1,
   "metadata": {},
   "outputs": [],
   "source": [
    "import pandas as pd\n",
    "import time\n",
    "from Functions import xbrl_dict,filings_collector\n",
    "import datetime as dt\n",
    "import requests\n",
    "import xml.etree.ElementTree as ET\n",
    "from pymongo import MongoClient"
   ]
  },
  {
   "cell_type": "code",
   "execution_count": 2,
   "metadata": {},
   "outputs": [
    {
     "name": "stdout",
     "output_type": "stream",
     "text": [
      "ticker?ba\n"
     ]
    }
   ],
   "source": [
    "ticker = input('ticker?')"
   ]
  },
  {
   "cell_type": "code",
   "execution_count": 3,
   "metadata": {},
   "outputs": [],
   "source": [
    "lxml_link = 'https://www.sec.gov/Archives/edgar/data/12927/000001292713000041/ba-20130930.xml'"
   ]
  },
  {
   "cell_type": "code",
   "execution_count": 4,
   "metadata": {},
   "outputs": [],
   "source": [
    "lxml_dict = xbrl_dict(lxml_link)"
   ]
  },
  {
   "cell_type": "code",
   "execution_count": 5,
   "metadata": {},
   "outputs": [
    {
     "data": {
      "text/plain": [
       "{'company_name': 'BOEING CO',\n",
       " 'CIK': '0000012927',\n",
       " 'doc_date': datetime.datetime(2013, 9, 30, 0, 0),\n",
       " 'doc_year': '2013',\n",
       " 'doc_period': 'Q3',\n",
       " 'common_shares_outstanding': 751453447,\n",
       " 'amendment_flag': 'false',\n",
       " 'exceptions': 1}"
      ]
     },
     "execution_count": 5,
     "metadata": {},
     "output_type": "execute_result"
    }
   ],
   "source": [
    "lxml_dict"
   ]
  },
  {
   "cell_type": "code",
   "execution_count": null,
   "metadata": {},
   "outputs": [],
   "source": [
    "xbrl_resp = requests.get(lxml_link)\n",
    "xbrl_str = xbrl_resp.text\n",
    "root = ET.fromstring(xbrl_str)\n",
    "uri_list = []\n",
    "names = []\n",
    "sec_list = []\n",
    "for child in root:\n",
    "    uri_pos = child.tag.index('}')\n",
    "    uri = ''.join(child.tag[1:uri_pos])\n",
    "    name = ''.join(child.tag[int(uri_pos+1):len(child.tag)])\n",
    "\n",
    "    if uri not in uri_list:\n",
    "        uri_list.append(uri)\n",
    "\n",
    "    if uri[0:22] == 'http://xbrl.us/us-gaap' or uri[0:23] == 'http://fasb.org/us-gaap':\n",
    "        ref = child.attrib['contextRef']\n",
    "        keys_test = {'ref' : ref, 'name' : name, 'data' : child.text}\n",
    "        names.append(keys_test)  \n",
    "    if uri[0:18] == 'http://xbrl.us/dei' or uri[0:23] == 'http://xbrl.sec.gov/dei':\n",
    "        sec_keys = {'name' : name, 'attribs' : child.attrib, 'data' : child.text}\n",
    "        sec_list.append(sec_keys)"
   ]
  },
  {
   "cell_type": "code",
   "execution_count": null,
   "metadata": {},
   "outputs": [],
   "source": [
    "uri_list"
   ]
  },
  {
   "cell_type": "code",
   "execution_count": null,
   "metadata": {},
   "outputs": [],
   "source": [
    "# names\n",
    "q1_names_df = pd.DataFrame(names)\n",
    "q1_names_df.head()"
   ]
  },
  {
   "cell_type": "code",
   "execution_count": null,
   "metadata": {},
   "outputs": [],
   "source": [
    "q1_names_df.to_csv(f'../data/{ticker}_xml_test.csv', index=False)"
   ]
  },
  {
   "cell_type": "code",
   "execution_count": null,
   "metadata": {},
   "outputs": [],
   "source": []
  }
 ],
 "metadata": {
  "kernelspec": {
   "display_name": "Python 3",
   "language": "python",
   "name": "python3"
  },
  "language_info": {
   "codemirror_mode": {
    "name": "ipython",
    "version": 3
   },
   "file_extension": ".py",
   "mimetype": "text/x-python",
   "name": "python",
   "nbconvert_exporter": "python",
   "pygments_lexer": "ipython3",
   "version": "3.7.1"
  }
 },
 "nbformat": 4,
 "nbformat_minor": 2
}
