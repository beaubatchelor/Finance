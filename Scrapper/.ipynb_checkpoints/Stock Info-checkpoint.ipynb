{
 "cells": [
  {
   "cell_type": "code",
   "execution_count": 7,
   "metadata": {},
   "outputs": [],
   "source": [
    "import datetime as dt\n",
    "import os, csv\n",
    "import pandas as pd\n",
    "import requests\n",
    "from config import alpha_api"
   ]
  },
  {
   "cell_type": "code",
   "execution_count": 10,
   "metadata": {},
   "outputs": [
    {
     "name": "stdout",
     "output_type": "stream",
     "text": [
      "Ticker?gme\n"
     ]
    }
   ],
   "source": [
    "ticker = input('Ticker?')\n",
    "monthly_ticker_json = requests.get(f'https://www.alphavantage.co/query?function=TIME_SERIES_MONTHLY_ADJUSTED&symbol={ticker}&apikey={alpha_api}').json()"
   ]
  },
  {
   "cell_type": "code",
   "execution_count": 29,
   "metadata": {},
   "outputs": [],
   "source": [
    "monthly_list = []\n",
    "for key, value in monthly_ticker_json['Monthly Adjusted Time Series'].items():\n",
    "    day_dict = {\n",
    "        'open': float(value['1. open']), 'high': float(value['2. high']), 'low': float(value['3. low']),\n",
    "        'close': float(value['4. close']), 'adjusted_close': float(value['5. adjusted close']), 'volume': float(value['6. volume']),\n",
    "        'dividend_amount': float(value['7. dividend amount']), 'day' : dt.date.fromisoformat(key)\n",
    "    }\n",
    "    monthly_list.append(day_dict)    "
   ]
  },
  {
   "cell_type": "code",
   "execution_count": 30,
   "metadata": {},
   "outputs": [
    {
     "data": {
      "text/html": [
       "<div>\n",
       "<style scoped>\n",
       "    .dataframe tbody tr th:only-of-type {\n",
       "        vertical-align: middle;\n",
       "    }\n",
       "\n",
       "    .dataframe tbody tr th {\n",
       "        vertical-align: top;\n",
       "    }\n",
       "\n",
       "    .dataframe thead th {\n",
       "        text-align: right;\n",
       "    }\n",
       "</style>\n",
       "<table border=\"1\" class=\"dataframe\">\n",
       "  <thead>\n",
       "    <tr style=\"text-align: right;\">\n",
       "      <th></th>\n",
       "      <th>adjusted_close</th>\n",
       "      <th>close</th>\n",
       "      <th>day</th>\n",
       "      <th>dividend_amount</th>\n",
       "      <th>high</th>\n",
       "      <th>low</th>\n",
       "      <th>open</th>\n",
       "      <th>volume</th>\n",
       "    </tr>\n",
       "  </thead>\n",
       "  <tbody>\n",
       "    <tr>\n",
       "      <th>0</th>\n",
       "      <td>11.4300</td>\n",
       "      <td>11.43</td>\n",
       "      <td>2019-02-15</td>\n",
       "      <td>0.00</td>\n",
       "      <td>11.810</td>\n",
       "      <td>11.00</td>\n",
       "      <td>11.31</td>\n",
       "      <td>30731797.0</td>\n",
       "    </tr>\n",
       "    <tr>\n",
       "      <th>1</th>\n",
       "      <td>11.3400</td>\n",
       "      <td>11.34</td>\n",
       "      <td>2019-01-31</td>\n",
       "      <td>0.00</td>\n",
       "      <td>16.903</td>\n",
       "      <td>11.10</td>\n",
       "      <td>12.45</td>\n",
       "      <td>107232026.0</td>\n",
       "    </tr>\n",
       "    <tr>\n",
       "      <th>2</th>\n",
       "      <td>12.6200</td>\n",
       "      <td>12.62</td>\n",
       "      <td>2018-12-31</td>\n",
       "      <td>0.38</td>\n",
       "      <td>14.110</td>\n",
       "      <td>11.56</td>\n",
       "      <td>13.82</td>\n",
       "      <td>50160871.0</td>\n",
       "    </tr>\n",
       "    <tr>\n",
       "      <th>3</th>\n",
       "      <td>13.2786</td>\n",
       "      <td>13.66</td>\n",
       "      <td>2018-11-30</td>\n",
       "      <td>0.00</td>\n",
       "      <td>15.755</td>\n",
       "      <td>12.14</td>\n",
       "      <td>14.61</td>\n",
       "      <td>84573696.0</td>\n",
       "    </tr>\n",
       "    <tr>\n",
       "      <th>4</th>\n",
       "      <td>14.1924</td>\n",
       "      <td>14.60</td>\n",
       "      <td>2018-10-31</td>\n",
       "      <td>0.00</td>\n",
       "      <td>15.600</td>\n",
       "      <td>13.64</td>\n",
       "      <td>15.28</td>\n",
       "      <td>52300929.0</td>\n",
       "    </tr>\n",
       "  </tbody>\n",
       "</table>\n",
       "</div>"
      ],
      "text/plain": [
       "   adjusted_close  close         day  dividend_amount    high    low   open  \\\n",
       "0         11.4300  11.43  2019-02-15             0.00  11.810  11.00  11.31   \n",
       "1         11.3400  11.34  2019-01-31             0.00  16.903  11.10  12.45   \n",
       "2         12.6200  12.62  2018-12-31             0.38  14.110  11.56  13.82   \n",
       "3         13.2786  13.66  2018-11-30             0.00  15.755  12.14  14.61   \n",
       "4         14.1924  14.60  2018-10-31             0.00  15.600  13.64  15.28   \n",
       "\n",
       "        volume  \n",
       "0   30731797.0  \n",
       "1  107232026.0  \n",
       "2   50160871.0  \n",
       "3   84573696.0  \n",
       "4   52300929.0  "
      ]
     },
     "execution_count": 30,
     "metadata": {},
     "output_type": "execute_result"
    }
   ],
   "source": [
    "monthly_ticker_df = pd.DataFrame(monthly_list)\n",
    "monthly_ticker_df.head()"
   ]
  },
  {
   "cell_type": "code",
   "execution_count": 31,
   "metadata": {},
   "outputs": [
    {
     "data": {
      "text/plain": [
       "<matplotlib.axes._subplots.AxesSubplot at 0x23fd00f40f0>"
      ]
     },
     "execution_count": 31,
     "metadata": {},
     "output_type": "execute_result"
    },
    {
     "data": {
      "image/png": "[encoded data removed]",
      "text/plain": [
       "<Figure size 432x288 with 1 Axes>"
      ]
     },
     "metadata": {
      "needs_background": "light"
     },
     "output_type": "display_data"
    }
   ],
   "source": [
    "monthly_ticker_df.plot(x='day', y='adjusted_close')"
   ]
  },
  {
   "cell_type": "code",
   "execution_count": null,
   "metadata": {},
   "outputs": [],
   "source": []
  }
 ],
 "metadata": {
  "kernelspec": {
   "display_name": "Python 3",
   "language": "python",
   "name": "python3"
  },
  "language_info": {
   "codemirror_mode": {
    "name": "ipython",
    "version": 3
   },
   "file_extension": ".py",
   "mimetype": "text/x-python",
   "name": "python",
   "nbconvert_exporter": "python",
   "pygments_lexer": "ipython3",
   "version": "3.7.1"
  }
 },
 "nbformat": 4,
 "nbformat_minor": 2
}
