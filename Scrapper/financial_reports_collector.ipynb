{
 "cells": [
  {
   "cell_type": "code",
   "execution_count": 8,
   "metadata": {},
   "outputs": [],
   "source": [
    "import os, csv\n",
    "from splinter import Browser\n",
    "from bs4 import BeautifulSoup\n",
    "import pandas as pd\n",
    "import time\n",
    "import datetime as dt"
   ]
  },
  {
   "cell_type": "code",
   "execution_count": 9,
   "metadata": {},
   "outputs": [],
   "source": [
    "def filings_df(address):\n",
    "#     request\n",
    "    page_dfs = pd.read_html(address)\n",
    "    filing_df = pd.DataFrame(page_dfs[2])\n",
    "    \n",
    "#     headers collector\n",
    "    headers = []\n",
    "    for i in range(0,5):\n",
    "        headers.append(str(filing_df[i][0]))\n",
    "        \n",
    "#     headers cleaner\n",
    "    filing_df = filing_df.drop(0, axis=0)\n",
    "    filing_df = filing_df.rename(index=str, columns={0:headers[0], 1:headers[1],\n",
    "                                                     2:headers[2], 3:headers[3],\n",
    "                                                     4:headers[4]})\n",
    "    filing_df = filing_df.reset_index(drop=True)\n",
    "    \n",
    "#     description cleaner\n",
    "    for i in range(0, len(filing_df)):\n",
    "        filing_desc = filing_df['Description'][i].split()\n",
    "        filing_pos = len(filing_desc)-6\n",
    "        filing_number = filing_desc[filing_pos]\n",
    "        filing_df['Description'][i] = filing_number\n",
    "        filing_df['Filing Date'][i] = dt.date.fromisoformat(filing_df['Filing Date'][i])     \n",
    "        \n",
    "    \n",
    "    return filing_df"
   ]
  },
  {
   "cell_type": "code",
   "execution_count": 17,
   "metadata": {},
   "outputs": [],
   "source": [
    "def filings_collector(cik):\n",
    "    establishing_url = f'https://www.sec.gov/cgi-bin/browse-edgar?action=getcompany&CIK={cik}&type=&dateb=&owner=exclude&start=0&count=100'\n",
    "    establishing_df = filings_df(establishing_url)\n",
    "    for i in range(1,10):\n",
    "        try:\n",
    "            new_url = f'https://www.sec.gov/cgi-bin/browse-edgar?action=getcompany&CIK={ticker}&type=&dateb=&owner=exclude&start={i}00&count=100'\n",
    "            page_df = filings_df(new_url)\n",
    "            establishing_df = establishing_df.append(page_df, ignore_index=True)\n",
    "            time.sleep(.1)\n",
    "        except:\n",
    "            break\n",
    "    return establishing_df"
   ]
  },
  {
   "cell_type": "code",
   "execution_count": 19,
   "metadata": {},
   "outputs": [
    {
     "name": "stdout",
     "output_type": "stream",
     "text": [
      "what?wmt\n"
     ]
    },
    {
     "data": {
      "text/html": [
       "<div>\n",
       "<style scoped>\n",
       "    .dataframe tbody tr th:only-of-type {\n",
       "        vertical-align: middle;\n",
       "    }\n",
       "\n",
       "    .dataframe tbody tr th {\n",
       "        vertical-align: top;\n",
       "    }\n",
       "\n",
       "    .dataframe thead th {\n",
       "        text-align: right;\n",
       "    }\n",
       "</style>\n",
       "<table border=\"1\" class=\"dataframe\">\n",
       "  <thead>\n",
       "    <tr style=\"text-align: right;\">\n",
       "      <th></th>\n",
       "      <th>Filings</th>\n",
       "      <th>Format</th>\n",
       "      <th>Description</th>\n",
       "      <th>Filing Date</th>\n",
       "      <th>File/Film Number</th>\n",
       "    </tr>\n",
       "  </thead>\n",
       "  <tbody>\n",
       "    <tr>\n",
       "      <th>788</th>\n",
       "      <td>10-K</td>\n",
       "      <td>Documents</td>\n",
       "      <td>Item</td>\n",
       "      <td>1995-04-27</td>\n",
       "      <td>001-0699195531801</td>\n",
       "    </tr>\n",
       "    <tr>\n",
       "      <th>789</th>\n",
       "      <td>DEF 14A</td>\n",
       "      <td>Documents</td>\n",
       "      <td>proxy</td>\n",
       "      <td>1995-04-19</td>\n",
       "      <td>001-0699195529709</td>\n",
       "    </tr>\n",
       "    <tr>\n",
       "      <th>790</th>\n",
       "      <td>S-3/A</td>\n",
       "      <td>Documents</td>\n",
       "      <td>of</td>\n",
       "      <td>1995-02-21</td>\n",
       "      <td>033-5678195513834</td>\n",
       "    </tr>\n",
       "    <tr>\n",
       "      <th>791</th>\n",
       "      <td>SC 13G/A</td>\n",
       "      <td>Documents</td>\n",
       "      <td>0000950157-06-000676</td>\n",
       "      <td>1995-02-13</td>\n",
       "      <td>005-2010106950722</td>\n",
       "    </tr>\n",
       "    <tr>\n",
       "      <th>792</th>\n",
       "      <td>SC 13G/A</td>\n",
       "      <td>Documents</td>\n",
       "      <td>0000950157-06-000672</td>\n",
       "      <td>1994-02-14</td>\n",
       "      <td>005-2010106950708</td>\n",
       "    </tr>\n",
       "  </tbody>\n",
       "</table>\n",
       "</div>"
      ],
      "text/plain": [
       "      Filings     Format           Description Filing Date   File/Film Number\n",
       "788      10-K  Documents                  Item  1995-04-27  001-0699195531801\n",
       "789   DEF 14A  Documents                 proxy  1995-04-19  001-0699195529709\n",
       "790     S-3/A  Documents                    of  1995-02-21  033-5678195513834\n",
       "791  SC 13G/A  Documents  0000950157-06-000676  1995-02-13  005-2010106950722\n",
       "792  SC 13G/A  Documents  0000950157-06-000672  1994-02-14  005-2010106950708"
      ]
     },
     "execution_count": 19,
     "metadata": {},
     "output_type": "execute_result"
    }
   ],
   "source": [
    "ticker = input('what?')\n",
    "\n",
    "test = filings_collector(ticker)\n",
    "\n",
    "test.tail()"
   ]
  },
  {
   "cell_type": "code",
   "execution_count": 16,
   "metadata": {},
   "outputs": [
    {
     "name": "stderr",
     "output_type": "stream",
     "text": [
      "[TerminalIPythonApp] WARNING | Subcommand `ipython nbconvert` is deprecated and will be removed in future versions.\n",
      "[TerminalIPythonApp] WARNING | You likely want to use `jupyter nbconvert` in the future\n",
      "[NbConvertApp] Converting notebook financial_reports_collector.ipynb to python\n",
      "[NbConvertApp] Writing 2011 bytes to financial_reports_collector.py\n"
     ]
    }
   ],
   "source": [
    "# !ipython nbconvert --to=python financial_reports_collector.ipynb"
   ]
  },
  {
   "cell_type": "code",
   "execution_count": null,
   "metadata": {},
   "outputs": [],
   "source": []
  }
 ],
 "metadata": {
  "kernelspec": {
   "display_name": "Python 3",
   "language": "python",
   "name": "python3"
  },
  "language_info": {
   "codemirror_mode": {
    "name": "ipython",
    "version": 3
   },
   "file_extension": ".py",
   "mimetype": "text/x-python",
   "name": "python",
   "nbconvert_exporter": "python",
   "pygments_lexer": "ipython3",
   "version": "3.7.1"
  }
 },
 "nbformat": 4,
 "nbformat_minor": 2
}
