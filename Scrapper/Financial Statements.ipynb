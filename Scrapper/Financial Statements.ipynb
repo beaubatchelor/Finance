{
 "cells": [
  {
   "cell_type": "code",
   "execution_count": null,
   "metadata": {},
   "outputs": [],
   "source": [
    "import pandas as pd\n",
    "import time\n",
    "from Functions import xbrl_dict,filings_collector\n",
    "import datetime as dt\n",
    "import requests\n",
    "import xml.etree.ElementTree as ET\n",
    "from pymongo import MongoClient"
   ]
  },
  {
   "cell_type": "code",
   "execution_count": null,
   "metadata": {},
   "outputs": [],
   "source": [
    "ticker = input('ticker?').lower()"
   ]
  },
  {
   "cell_type": "code",
   "execution_count": 3,
   "metadata": {},
   "outputs": [
    {
     "name": "stderr",
     "output_type": "stream",
     "text": [
      "C:\\ProgramData\\Anaconda3\\lib\\site-packages\\pandas\\core\\frame.py:6211: FutureWarning: Sorting because non-concatenation axis is not aligned. A future version\n",
      "of pandas will change to not sort by default.\n",
      "\n",
      "To accept the future behavior, pass 'sort=False'.\n",
      "\n",
      "To retain the current behavior and silence the warning, pass 'sort=True'.\n",
      "\n",
      "  sort=sort)\n"
     ]
    }
   ],
   "source": [
    "# Access page\n",
    "all_filings_df = filings_collector(ticker)\n",
    "all_filings_df.to_csv(f'../data/all_{ticker}_filings.csv', index=False)\n",
    "all_filings_path = f'../data/all_{ticker}_filings.csv'"
   ]
  },
  {
   "cell_type": "code",
   "execution_count": null,
   "metadata": {
    "scrolled": true
   },
   "outputs": [],
   "source": [
    "all_filings_path = f'../data/all_{ticker}_filings.csv'\n",
    "xml_filings_df = pd.read_csv(all_filings_path)\n",
    "xml_filings_df = xml_filings_df.dropna(subset=['xbrl_link'])\n",
    "xml_filings_df = xml_filings_df.loc[xml_filings_df['filings'] == '10-K']\n",
    "xml_filings_df = xml_filings_df.reset_index(drop=True)\n",
    "xml_filings_df.head(100)"
   ]
  },
  {
   "cell_type": "code",
   "execution_count": null,
   "metadata": {},
   "outputs": [],
   "source": [
    "# lxml_ten_df = xml_filings_df.loc[xml_filings_df['filings'] == '10-Q']\n",
    "filings_list = []\n",
    "for i in range(0,len(xml_filings_df)):\n",
    "    lxml_link = xml_filings_df['xbrl_link'][i]\n",
    "\n",
    "    lxml_dict = xbrl_dict(lxml_link)\n",
    "    \n",
    "    filings_list.append(lxml_dict)\n"
   ]
  },
  {
   "cell_type": "code",
   "execution_count": null,
   "metadata": {},
   "outputs": [],
   "source": [
    "all_data_df = pd.DataFrame(filings_list)\n",
    "columns = all_data_df.columns.tolist()"
   ]
  },
  {
   "cell_type": "code",
   "execution_count": null,
   "metadata": {},
   "outputs": [],
   "source": [
    "establising_headers = ['company_name', 'CIK','doc_date',\n",
    "              'doc_year','doc_period','common_shares_outstanding',\n",
    "              'amendment_flag']\n",
    "for header in establising_headers:\n",
    "    index = columns.index(header)\n",
    "    columns.pop(index)\n",
    "\n",
    "ordered_columns = establising_headers+columns\n"
   ]
  },
  {
   "cell_type": "code",
   "execution_count": null,
   "metadata": {},
   "outputs": [],
   "source": [
    "all_data_df = all_data_df[ordered_columns]\n",
    "all_data_df.tail(20)"
   ]
  },
  {
   "cell_type": "code",
   "execution_count": null,
   "metadata": {},
   "outputs": [],
   "source": [
    "all_years = []\n",
    "for year in list(all_data_df['doc_year']):\n",
    "    if year not in all_years:\n",
    "         all_years.append(year)\n",
    "counter = 1            \n",
    "for index, row in all_data_df.iterrows():\n",
    "#     year = row['doc_year']\n",
    "#     period = row['doc_period']\n",
    "    counter += 1\n",
    "    print(row)\n",
    "    print(counter)\n",
    "    \n",
    "    \n",
    "    "
   ]
  },
  {
   "cell_type": "code",
   "execution_count": null,
   "metadata": {},
   "outputs": [],
   "source": [
    "all_data_df.to_csv(f'../data/{ticker}_financials.csv', index=False)"
   ]
  },
  {
   "cell_type": "code",
   "execution_count": null,
   "metadata": {},
   "outputs": [],
   "source": [
    "# Mongo DB connection\n",
    "client = MongoClient('mongodb://localhost:27017')\n",
    "db = client.Company_Info\n",
    "collection = db.SEC_filings\n",
    "\n",
    "for filing in filings_list:\n",
    "    collection.insert(filing)\n"
   ]
  },
  {
   "cell_type": "code",
   "execution_count": null,
   "metadata": {},
   "outputs": [],
   "source": [
    "# uris = []\n",
    "# all_names = []\n",
    "# for i in range(0,len(xml_filings_df)):\n",
    "#     lxml_link = xml_filings_df['xbrl_link'][i]\n",
    "#     xbrl_resp = requests.get(lxml_link)\n",
    "#     time.sleep(.1)\n",
    "#     xbrl_str = xbrl_resp.text\n",
    "#     root = ET.fromstring(xbrl_str)\n",
    "\n",
    "#     #     defining namespace prefixes\n",
    "#     uri_list = []\n",
    "#     names = []\n",
    "#     for child in root:\n",
    "#         uri_pos = child.tag.index('}')\n",
    "#         uri = ''.join(child.tag[1:uri_pos])\n",
    "#         name = ''.join(child.tag[int(uri_pos+1):len(child.tag)])\n",
    "        \n",
    "#         if uri not in uri_list:\n",
    "#             uri_list.append(uri)\n",
    "        \n",
    "#         if uri[0:18] == 'http://xbrl.us/dei':\n",
    "#             names.append(f'{name}: {child.text}')\n",
    "#     uris.append(uri_list)\n",
    "#     all_names.append(names)"
   ]
  },
  {
   "cell_type": "code",
   "execution_count": null,
   "metadata": {},
   "outputs": [],
   "source": [
    "lxml_link = xml_filings_df['doc_link'][21]\n",
    "print(lxml_link)"
   ]
  },
  {
   "cell_type": "code",
   "execution_count": null,
   "metadata": {},
   "outputs": [],
   "source": []
  }
 ],
 "metadata": {
  "kernelspec": {
   "display_name": "Python 3",
   "language": "python",
   "name": "python3"
  },
  "language_info": {
   "codemirror_mode": {
    "name": "ipython",
    "version": 3
   },
   "file_extension": ".py",
   "mimetype": "text/x-python",
   "name": "python",
   "nbconvert_exporter": "python",
   "pygments_lexer": "ipython3",
   "version": "3.7.1"
  }
 },
 "nbformat": 4,
 "nbformat_minor": 2
}
