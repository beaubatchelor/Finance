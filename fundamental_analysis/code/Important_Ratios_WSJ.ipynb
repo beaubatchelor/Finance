{
 "cells": [
  {
   "cell_type": "code",
   "execution_count": 1,
   "metadata": {},
   "outputs": [],
   "source": [
    "import requests\n",
    "from bs4 import BeautifulSoup\n",
    "import numpy as np\n",
    "import pandas as pd\n",
    "import json"
   ]
  },
  {
   "cell_type": "code",
   "execution_count": 17,
   "metadata": {},
   "outputs": [
    {
     "name": "stdout",
     "output_type": "stream",
     "text": [
      "what is the ticker?jill\n"
     ]
    }
   ],
   "source": [
    "ticker = input('what is the ticker?').upper()"
   ]
  },
  {
   "cell_type": "code",
   "execution_count": 18,
   "metadata": {},
   "outputs": [
    {
     "data": {
      "text/plain": [
       "bs4.BeautifulSoup"
      ]
     },
     "execution_count": 18,
     "metadata": {},
     "output_type": "execute_result"
    }
   ],
   "source": [
    "url = f'https://quotes.wsj.com/{ticker}/financials'\n",
    "\n",
    "url_html = requests.get(url).text\n",
    "\n",
    "soup = BeautifulSoup(url_html, 'lxml')\n",
    "type(soup)"
   ]
  },
  {
   "cell_type": "code",
   "execution_count": 20,
   "metadata": {},
   "outputs": [
    {
     "data": {
      "text/plain": [
       "[('Volume', '2,341,161'),\n",
       " ('Volume', '2,341,161'),\n",
       " ('65 Day Avg Vol', '932,976'),\n",
       " ('1 Day Range', '1.34 - 1.52'),\n",
       " ('52 Week Range', '1.34 - 9.62'),\n",
       " ('Open ', '1.52'),\n",
       " ('Prior Close ', '1.48 (05/31/19)'),\n",
       " ('Qtr. EPS Est.', ' -0.09 Q2 2019 '),\n",
       " ('Qtr. Year Ago', ' +0.24 Q2 2018 '),\n",
       " ('Ann. EPS Est.', ' +0.20 FY 2019 '),\n",
       " ('Ann. Year Ago', ' +0.69 FY 2019 '),\n",
       " ('Next Report', ' 08/26/2019 '),\n",
       " ('Last Report', ' 05/30/2019 '),\n",
       " ('Fiscal Yr Ends', ' January 31 '),\n",
       " ('No. of Analysts', ' 6 '),\n",
       " ('Earnings Per Share', ' +0.69 '),\n",
       " ('Sales', ' 15.96 '),\n",
       " ('Tangible Book Value', ' -2.73 '),\n",
       " ('Operating Profit', ' 1.38 '),\n",
       " ('Working Capital', ' 1.65 '),\n",
       " ('Long Term Liabilities', ' 7.27 '),\n",
       " ('Capital Expenditure', ' 0.56 '),\n",
       " ('Capital Expenditure TTM', ' - '),\n",
       " ('P/E Ratio (TTM)', ' 2.63 '),\n",
       " ('P/E Ratio (including extraordinary items)', ' - '),\n",
       " ('Price to Sales Ratio', ' 0.37 '),\n",
       " ('Price to Book Ratio', ' 1.19 '),\n",
       " ('Price to Cash Flow Ratio', ' 3.83 '),\n",
       " ('Enterprise Value to EBITDA', ' 2.43 '),\n",
       " ('Enterprise Value to Sales', ' 0.34 '),\n",
       " ('Total Debt to Enterprise Value', ' 0.56 '),\n",
       " ('Total Debt to EBITDA', ' 2.44 '),\n",
       " ('EPS (recurring)', ' 0.69 '),\n",
       " ('EPS (basic)', ' 0.71 '),\n",
       " ('EPS (diluted)', ' 0.69 '),\n",
       " ('Revenue/Employee', ' 177,900 '),\n",
       " ('Income Per Employee', ' 7,689 '),\n",
       " ('Receivables Turnover', ' 111.55 '),\n",
       " ('Total Asset Turnover', ' 1.14 '),\n",
       " ('Current Ratio', ' 1.70 '),\n",
       " ('Quick Ratio', ' 0.95 '),\n",
       " ('Cash Ratio', ' 0.64 '),\n",
       " ('Gross Margin', ' +65.17 '),\n",
       " ('Operating Margin', ' +8.67 '),\n",
       " ('Pretax Margin', ' +5.97 '),\n",
       " ('Net Margin', ' +4.32 '),\n",
       " ('Return on Assets', ' 4.93 '),\n",
       " ('Return on Equity', ' 15.53 '),\n",
       " ('Return on Total Capital', ' 14.00 '),\n",
       " ('Return on Invested Capital', ' 7.02 '),\n",
       " ('Total Debt to Total Equity', ' 112.38 '),\n",
       " ('Total Debt to Total Capital', ' 52.91 '),\n",
       " ('Total Debt to Total Assets', ' 37.87 '),\n",
       " ('Interest Coverage', ' 3.15 '),\n",
       " ('Long-Term Debt to Equity', ' 111.07 '),\n",
       " ('Long-Term Debt to Total Capital', ' 52.30 '),\n",
       " ('Long-Term Debt to Assets', ' 0.37 ')]"
      ]
     },
     "execution_count": 20,
     "metadata": {},
     "output_type": "execute_result"
    }
   ],
   "source": [
    "ratios_names_list = soup.find_all('span', class_= 'data_lbl')\n",
    "ratios_names_list = [x.text for x in ratios_names_list if x.text != '1 Day']\n",
    "ratios_values_list = soup.find_all('span', class_= 'data_data')\n",
    "ratios_values_list = [x.text for x in ratios_values_list]\n",
    "\n",
    "ratios_combine_list = zip(ratios_names_list, ratios_values_list)\n",
    "\n",
    "list(ratios_combine_list)"
   ]
  },
  {
   "cell_type": "code",
   "execution_count": null,
   "metadata": {},
   "outputs": [],
   "source": []
  }
 ],
 "metadata": {
  "kernelspec": {
   "display_name": "Python 3",
   "language": "python",
   "name": "python3"
  },
  "language_info": {
   "codemirror_mode": {
    "name": "ipython",
    "version": 3
   },
   "file_extension": ".py",
   "mimetype": "text/x-python",
   "name": "python",
   "nbconvert_exporter": "python",
   "pygments_lexer": "ipython3",
   "version": "3.7.1"
  }
 },
 "nbformat": 4,
 "nbformat_minor": 2
}
