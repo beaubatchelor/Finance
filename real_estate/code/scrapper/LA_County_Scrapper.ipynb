{
 "cells": [
  {
   "cell_type": "code",
   "execution_count": 1,
   "metadata": {},
   "outputs": [],
   "source": [
    "import requests\n",
    "import numpy as np\n",
    "import time\n",
    "import datetime as dt\n",
    "import pandas as pd\n",
    "from sodapy import Socrata\n",
    "from config import la_county_api, la_county_secret_api, la_county_password, dol_api\n",
    "import matplotlib.pyplot as plt"
   ]
  },
  {
   "cell_type": "code",
   "execution_count": 2,
   "metadata": {},
   "outputs": [],
   "source": [
    "client = Socrata('data.lacounty.gov',\n",
    "                 la_county_api,\n",
    "                 username=\"beauwbatchelor@gmail.com\",\n",
    "                 password=la_county_password)\n",
    "cpi_table = pd.read_csv('../../data/CPI.csv')\n",
    "cpi_year = {}\n",
    "for i in range(len(cpi_table)):\n",
    "    year = str(cpi_table['YEAR'][i])\n",
    "    year_percent = {year : float(cpi_table['PERCENT'][i])}\n",
    "    cpi_year.update(year_percent)"
   ]
  },
  {
   "cell_type": "code",
   "execution_count": 3,
   "metadata": {},
   "outputs": [],
   "source": [
    "results = client.get(\"mdji-9cym\", usecodedescchar2 ='Four Units  (Any Combination)', where = 'sqftmain > 0', limit=5000)"
   ]
  },
  {
   "cell_type": "code",
   "execution_count": 4,
   "metadata": {},
   "outputs": [],
   "source": [
    "results_df = pd.DataFrame.from_records(results)"
   ]
  },
  {
   "cell_type": "code",
   "execution_count": 5,
   "metadata": {},
   "outputs": [],
   "source": [
    "# results_df.to_csv('../../data/la_county2.csv', index=False)"
   ]
  },
  {
   "cell_type": "code",
   "execution_count": 6,
   "metadata": {},
   "outputs": [],
   "source": [
    "type_list = []\n",
    "sqft_value_list = []\n",
    "cpi_total_adj = []\n",
    "\n",
    "for i, row in results_df.iterrows():\n",
    "    year = row['rollyear']\n",
    "    cpi_adjusted_value = int(row['roll_totalvalue'])+(int(row['roll_totalvalue']) * cpi_year[year])\n",
    "    cpi_total_adj.append(cpi_adjusted_value)\n",
    "    sqft_value_list.append(cpi_adjusted_value / int(row['sqftmain']))\n",
    "    prop_type = row['situszip5']\n",
    "    if prop_type not in type_list:\n",
    "        type_list.append(prop_type)\n",
    "        \n",
    "results_df['sqft_value'] = sqft_value_list\n",
    "results_df['cpi_total_adj'] = cpi_total_adj"
   ]
  },
  {
   "cell_type": "code",
   "execution_count": 7,
   "metadata": {},
   "outputs": [],
   "source": [
    "prices_by_zip = {}\n",
    "for i in range(len(type_list)):\n",
    "    zip_code = type_list[i]\n",
    "    zip_prices = {zip_code : []}\n",
    "    for key, row in results_df.iterrows():\n",
    "        row_zip = row['situszip5']\n",
    "        if row_zip == zip_code:\n",
    "            zip_prices[zip_code].append(int(row['sqft_value']))\n",
    "    prices_by_zip.update(zip_prices)\n",
    "            "
   ]
  },
  {
   "cell_type": "code",
   "execution_count": 8,
   "metadata": {},
   "outputs": [
    {
     "name": "stdout",
     "output_type": "stream",
     "text": [
      "90057 61\n",
      "90035 1\n",
      "90066 1\n",
      "90045 1\n",
      "90026 165\n",
      "90017 9\n",
      "90004 4\n",
      "90012 5\n",
      "nan 0\n",
      "90033 304\n",
      "90063 208\n",
      "90023 192\n",
      "91801 5\n",
      "91754 54\n",
      "90031 173\n",
      "90032 105\n",
      "90022 184\n",
      "90040 14\n",
      "91755 17\n",
      "91732 863\n",
      "91506 12\n",
      "91733 1376\n",
      "91502 1\n",
      "91504 7\n",
      "91505 24\n",
      "91746 16\n",
      "90660 30\n",
      "90601 994\n",
      "90606 46\n",
      "90602 127\n"
     ]
    }
   ],
   "source": [
    "for zip in prices_by_zip.keys():\n",
    "    print(zip, len(prices_by_zip[zip]))"
   ]
  },
  {
   "cell_type": "code",
   "execution_count": 10,
   "metadata": {},
   "outputs": [],
   "source": [
    "chart_list = prices_by_zip['91733']"
   ]
  },
  {
   "cell_type": "code",
   "execution_count": 14,
   "metadata": {},
   "outputs": [
    {
     "data": {
      "image/png": "[encoded data removed]",
      "text/plain": [
       "<Figure size 1440x360 with 1 Axes>"
      ]
     },
     "metadata": {
      "needs_background": "light"
     },
     "output_type": "display_data"
    },
    {
     "name": "stdout",
     "output_type": "stream",
     "text": [
      "119.90116279069767 76.50657631588379\n"
     ]
    }
   ],
   "source": [
    "# bin_num = int(len(chart_list)/5)\n",
    "bin_num = 30\n",
    "\n",
    "plt.figure(num = 1, figsize=(20,5))\n",
    "plt.hist(chart_list,bins=bin_num)\n",
    "plt.xticks(np.arange(min(chart_list), max(chart_list), 100), rotation=50)\n",
    "plt.show()\n",
    "print(np.mean(chart_list), np.std(chart_list))"
   ]
  },
  {
   "cell_type": "code",
   "execution_count": null,
   "metadata": {},
   "outputs": [],
   "source": [
    "prices_by_zip"
   ]
  },
  {
   "cell_type": "code",
   "execution_count": null,
   "metadata": {},
   "outputs": [],
   "source": []
  }
 ],
 "metadata": {
  "kernelspec": {
   "display_name": "Python 3",
   "language": "python",
   "name": "python3"
  },
  "language_info": {
   "codemirror_mode": {
    "name": "ipython",
    "version": 3
   },
   "file_extension": ".py",
   "mimetype": "text/x-python",
   "name": "python",
   "nbconvert_exporter": "python",
   "pygments_lexer": "ipython3",
   "version": "3.7.1"
  }
 },
 "nbformat": 4,
 "nbformat_minor": 2
}
