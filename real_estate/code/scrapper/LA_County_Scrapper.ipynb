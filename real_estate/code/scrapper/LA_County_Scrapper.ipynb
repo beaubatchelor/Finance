{
 "cells": [
  {
   "cell_type": "code",
   "execution_count": 1,
   "metadata": {},
   "outputs": [],
   "source": [
    "import requests \n",
    "import time\n",
    "import datetime as dt\n",
    "import pandas as pd"
   ]
  },
  {
   "cell_type": "code",
   "execution_count": 18,
   "metadata": {},
   "outputs": [],
   "source": [
    "api_url = 'https://data.lacounty.gov/resource/mk7y-hq5p.json'\n",
    "assessor_json = requests.get(api_url).json()\n"
   ]
  },
  {
   "cell_type": "code",
   "execution_count": 19,
   "metadata": {},
   "outputs": [
    {
     "data": {
      "text/plain": [
       "dict_keys(['cluster', 'situsdirection', 'roll_landbaseyear', 'roll_totalvalue', 'situszip', 'situshouseno', 'sqftmain', 'roll_perspropexemp', 'adminregion', 'rowid', 'situszip5', 'roll_landvalue', 'roll_fixturevalue', 'roll_homeownersexemp', 'situsunit', 'taxratearea', 'center_lon', 'nettaxablevalue', 'bathrooms', 'bedrooms', 'rollyear', 'recordingdate', 'usecode', 'location_1', 'parcelclassification', 'ain', 'units', 'roll_impbaseyear', 'roll_impvalue', 'taxratearea_city', 'roll_totlandimp', 'roll_realestateexemp', 'parcelboundarydescription', 'totbuildingdatalines', 'situsfraction', 'propertylocation', 'roll_perspropvalue', 'istaxableparcel', 'yearbuilt', 'situscity', 'center_lat', 'roll_totalexemption', 'roll_fixtureexemp', 'assessorid', 'usecodedescchar4', 'situsstreet', 'usecodedescchar3', 'usecodedescchar2', 'usecodedescchar1', 'effectiveyearbuilt', 'usetype'])"
      ]
     },
     "execution_count": 19,
     "metadata": {},
     "output_type": "execute_result"
    }
   ],
   "source": [
    "assessor_keys = assessor_json[0].keys()\n",
    "assessor_keys"
   ]
  },
  {
   "cell_type": "code",
   "execution_count": 20,
   "metadata": {},
   "outputs": [
    {
     "data": {
      "text/plain": [
       "1000"
      ]
     },
     "execution_count": 20,
     "metadata": {},
     "output_type": "execute_result"
    }
   ],
   "source": [
    "len(assessor_json)"
   ]
  },
  {
   "cell_type": "code",
   "execution_count": null,
   "metadata": {},
   "outputs": [],
   "source": []
  }
 ],
 "metadata": {
  "kernelspec": {
   "display_name": "Python 3",
   "language": "python",
   "name": "python3"
  },
  "language_info": {
   "codemirror_mode": {
    "name": "ipython",
    "version": 3
   },
   "file_extension": ".py",
   "mimetype": "text/x-python",
   "name": "python",
   "nbconvert_exporter": "python",
   "pygments_lexer": "ipython3",
   "version": "3.7.1"
  }
 },
 "nbformat": 4,
 "nbformat_minor": 2
}
