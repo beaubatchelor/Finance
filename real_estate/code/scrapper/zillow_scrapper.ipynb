{
 "cells": [
  {
   "cell_type": "code",
   "execution_count": 20,
   "metadata": {},
   "outputs": [],
   "source": [
    "import requests \n",
    "import time\n",
    "import datetime as dt\n",
    "from splinter import Browser\n",
    "from bs4 import BeautifulSoup"
   ]
  },
  {
   "cell_type": "code",
   "execution_count": 21,
   "metadata": {},
   "outputs": [
    {
     "name": "stdout",
     "output_type": "stream",
     "text": [
      "https://www.zillow.com/homes/?searchQueryState={\"mapBounds\":{\"west\":-118.24146476050976,\"east\":-117.60288443824413,\"south\":33.50269676622425,\"north\":33.94643483185059},\"isMapVisible\":false,\"mapZoom\":11,\"pagination\":{},\"filterState\":{\"beds\":{\"min\":5},\"baths\":{\"min\":3},\"isPreMarketForeclosure\":{\"value\":false},\"isPreMarketPreForeclosure\":{\"value\":false},\"isMakeMeMove\":{\"value\":false},\"isLotLand\":{\"value\":false},\"sortSelection\":{\"value\":\"pricea\"}},\"isListVisible\":true}\n"
     ]
    }
   ],
   "source": [
    "base_url = 'https://www.zillow.com/homes/?searchQueryState='\n",
    "map_bounds_dict = { 'west_url' : '-118.24146476050976', 'east_url' : \"-117.60288443824413\",\n",
    "                  'south_url' : \"33.50269676622425\", 'north_url' : \"33.94643483185059\"}\n",
    "\n",
    "map_bounds_url = '\"mapBounds\":{{\"west\":{west_url},\"east\":{east_url},\"south\":{south_url},\"north\":{north_url}}}'.format(**map_bounds_dict)\n",
    "filter_state = '{\"beds\":{\"min\":5},\"baths\":{\"min\":3},\"isPreMarketForeclosure\":{\"value\":false},\"isPreMarketPreForeclosure\":{\"value\":false},\"isMakeMeMove\":{\"value\":false},\"isLotLand\":{\"value\":false},\"sortSelection\":{\"value\":\"pricea\"}}'\n",
    "map_zoom = 11\n",
    "query_url = f'{{{map_bounds_url},\"isMapVisible\":false,\"mapZoom\":{map_zoom},\"pagination\":{{}},\"filterState\":{filter_state},\"isListVisible\":true}}'\n",
    "address = f'{base_url}{query_url}'\n",
    "\n",
    "\n",
    "print(address)"
   ]
  },
  {
   "cell_type": "code",
   "execution_count": 22,
   "metadata": {},
   "outputs": [],
   "source": [
    "def init_browser():\n",
    "        executable_path = {\"executable_path\": \"C:\\Program Files (x86)\\Google\\chromedriver\"}\n",
    "        return Browser(\"chrome\", **executable_path, headless = True)"
   ]
  },
  {
   "cell_type": "code",
   "execution_count": 23,
   "metadata": {},
   "outputs": [],
   "source": [
    "def scrape_first(url):\n",
    "    browser = init_browser()\n",
    "    browser.visit(str(url))\n",
    "    time.sleep(1)\n",
    "    html = browser.html\n",
    "    soup = BeautifulSoup(html, \"lxml\")\n",
    "    return html"
   ]
  },
  {
   "cell_type": "code",
   "execution_count": 24,
   "metadata": {},
   "outputs": [
    {
     "data": {
      "text/plain": [
       "'<html xmlns=\"http://www.w3.org/1999/xhtml\"><head><meta name=\"robots\" content=\"noindex, nofollow\" /><script type=\"text/javascript\" async=\"\" src=\"https://www.gstatic.com/recaptcha/api2/v1554100419869/recaptcha__en.js\"></script><script src=\"https://www.google.com/recaptcha/api.js\"></script><link href=\"https://www.zillowstatic.com/vstatic/7de9b24/static/css/z-pages/captcha.css\" type=\"text/css\" rel=\"stylesheet\" media=\"screen\" /><script>\\n            function handleCaptcha(response) {\\n                var vid = getQueryString(\"vid\"); // getQueryString is implemented below\\n                var uuid = getQueryString(\"uuid\");\\n                var name = \\'_pxCaptcha\\';\\n                var cookieValue =  btoa(JSON.stringify({r:response,v:vid,u:uuid}));\\n                var cookieParts = [name, \\'=\\', cookieValue, \\'; path=/\\'];\\n                cookieParts.push(\\'; domain=\\' + window.location.hostname);\\n                cookieParts.push(\\'; max-age=10\\');//expire after 10 seconds\\n                document.cookie = cookieParts.join(\\'\\');\\n                var originalURL = getOriginalUrl(\"url\");\\n                var originalHost = window.location.host;\\n                var newHref = window.location.protocol + \"//\" + originalHost;\\n                originalURL = originalURL || \\'/\\';\\n                newHref = newHref + originalURL;\\n                window.location.href = newHref;\\n            }\\n\\n            function getQueryString(name, url) {\\n                if (!url) url = window.location.href;\\n                name = name.replace(/[\\\\[\\\\]]/g, \"\\\\\\\\$&amp;\");\\n                var regex = new RegExp(\"[?&amp;]\" + name + \"(=([^&amp;#]*)|&amp;|#|$)\"),\\n                results = regex.exec(url);\\n                if (!results) return null;\\n                if (!results[2]) return \\'\\';\\n                return decodeURIComponent(results[2].replace(/\\\\+/g, \" \"));\\n            }\\n\\n            function getOriginalUrl(name) {\\n                var url = getQueryString(name);\\n                if (!url) return null;\\n                var regExMatcher = new RegExp(\"(([^&amp;#@]*)|&amp;|#|$)\");\\n                var matches = regExMatcher.exec(url);\\n                if (!matches) return null;\\n                return matches[0];\\n            }\\n\\n            document.addEventListener(\"DOMContentLoaded\", function (e) {\\n                var uuidVerifyRegExp = /^\\\\{?[0-9a-fA-F]{8}-[0-9a-fA-F]{4}-[0-9a-fA-F]{4}-[0-9a-fA-F]{4}-[0-9a-fA-F]{12}\\\\}?$/i;\\n                document.getElementById(\"uuid\").innerText = \"UUID: \" + uuidVerifyRegExp.exec(getQueryString(\"uuid\"));\\n            });\\n        </script></head><body><main class=\"zsg-layout-content\"><div class=\"error-content-block\"><div class=\"error-text-content\"><!-- <h1>Captcha</h1> --><h5>Please verify you\\'re a human to continue.</h5><div id=\"content\" class=\"captcha-container\"><div class=\"g-recaptcha\" data-theme=\"white\" data-callback=\"handleCaptcha\" data-sitekey=\"6Lcj-R8TAAAAABs3FrRPuQhLMbp5QrHsHufzLf7b\"><div style=\"width: 304px; height: 78px;\"><div><iframe src=\"https://www.google.com/recaptcha/api2/anchor?ar=1&amp;k=6Lcj-R8TAAAAABs3FrRPuQhLMbp5QrHsHufzLf7b&amp;co=aHR0cHM6Ly93d3cuemlsbG93LmNvbTo0NDM.&amp;hl=en&amp;v=v1554100419869&amp;theme=white&amp;size=normal&amp;cb=thjjpmvdjy78\" width=\"304\" height=\"78\" role=\"presentation\" name=\"a-pj3wdop2fzss\" frameborder=\"0\" scrolling=\"no\" sandbox=\"allow-forms allow-popups allow-same-origin allow-scripts allow-top-navigation allow-modals allow-popups-to-escape-sandbox\"></iframe></div><textarea id=\"g-recaptcha-response\" name=\"g-recaptcha-response\" class=\"g-recaptcha-response\" style=\"width: 250px; height: 40px; border: 1px solid rgb(193, 193, 193); margin: 10px 25px; padding: 0px; resize: none; display: none;\"></textarea></div></div></div><img src=\"https://www.zillowstatic.com/static/logos/logo-65x14.png\" width=\"65\" alt=\"Zillow\" height=\"14\" /></div></div></main><h4 id=\"uuid\" class=\"uuid-string zsg-fineprint\">UUID: d25040e0-60b6-11e9-b1a6-cb0ade758610</h4><div style=\"background-color: rgb(255, 255, 255); border: 1px solid rgb(204, 204, 204); box-shadow: rgba(0, 0, 0, 0.2) 2px 2px 3px; position: absolute; transition: visibility 0s linear 0.3s, opacity 0.3s linear 0s; opacity: 0; visibility: hidden; z-index: 2000000000; left: 0px; top: -10000px;\"><div style=\"width: 100%; height: 100%; position: fixed; top: 0px; left: 0px; z-index: 2000000000; background-color: rgb(255, 255, 255); opacity: 0.05;\"></div><div class=\"g-recaptcha-bubble-arrow\" style=\"border: 11px solid transparent; width: 0px; height: 0px; position: absolute; pointer-events: none; margin-top: -11px; z-index: 2000000000;\"></div><div class=\"g-recaptcha-bubble-arrow\" style=\"border: 10px solid transparent; width: 0px; height: 0px; position: absolute; pointer-events: none; margin-top: -10px; z-index: 2000000000;\"></div><div style=\"z-index: 2000000000; position: relative;\"><iframe title=\"recaptcha challenge\" src=\"https://www.google.com/recaptcha/api2/bframe?hl=en&amp;v=v1554100419869&amp;k=6Lcj-R8TAAAAABs3FrRPuQhLMbp5QrHsHufzLf7b&amp;cb=aq3ncmw5xk1b\" name=\"c-pj3wdop2fzss\" frameborder=\"0\" scrolling=\"no\" sandbox=\"allow-forms allow-popups allow-same-origin allow-scripts allow-top-navigation allow-modals allow-popups-to-escape-sandbox\" style=\"width: 100%; height: 100%;\"></iframe></div></div></body></html><!-- H:046  T:4ms  S:2686  R:Tue Apr 16 19:16:34 PDT 2019  B:5.0.59689.5-hotfix_2019-04-10.a4901c4~hotfix-platform-for-2019-04-10.5bf180c -->'"
      ]
     },
     "execution_count": 24,
     "metadata": {},
     "output_type": "execute_result"
    }
   ],
   "source": [
    "scrape_first(address)"
   ]
  },
  {
   "cell_type": "code",
   "execution_count": null,
   "metadata": {},
   "outputs": [],
   "source": []
  }
 ],
 "metadata": {
  "kernelspec": {
   "display_name": "Python 3",
   "language": "python",
   "name": "python3"
  },
  "language_info": {
   "codemirror_mode": {
    "name": "ipython",
    "version": 3
   },
   "file_extension": ".py",
   "mimetype": "text/x-python",
   "name": "python",
   "nbconvert_exporter": "python",
   "pygments_lexer": "ipython3",
   "version": "3.7.1"
  }
 },
 "nbformat": 4,
 "nbformat_minor": 2
}
